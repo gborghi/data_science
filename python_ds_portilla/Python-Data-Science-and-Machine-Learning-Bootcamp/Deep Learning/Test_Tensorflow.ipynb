{
 "cells": [
  {
   "cell_type": "code",
   "execution_count": 1,
   "metadata": {},
   "outputs": [],
   "source": [
    "import tensorflow as tf"
   ]
  },
  {
   "cell_type": "code",
   "execution_count": 3,
   "metadata": {},
   "outputs": [],
   "source": [
    "hello = tf.constant('Hello World')"
   ]
  },
  {
   "cell_type": "code",
   "execution_count": 4,
   "metadata": {},
   "outputs": [],
   "source": [
    "x = tf.constant(100)"
   ]
  },
  {
   "cell_type": "code",
   "execution_count": 5,
   "metadata": {},
   "outputs": [
    {
     "data": {
      "text/plain": [
       "<tf.Tensor 'Const_2:0' shape=() dtype=int32>"
      ]
     },
     "execution_count": 5,
     "metadata": {},
     "output_type": "execute_result"
    }
   ],
   "source": [
    "x"
   ]
  },
  {
   "cell_type": "code",
   "execution_count": 6,
   "metadata": {},
   "outputs": [
    {
     "data": {
      "text/plain": [
       "tensorflow.python.framework.ops.Tensor"
      ]
     },
     "execution_count": 6,
     "metadata": {},
     "output_type": "execute_result"
    }
   ],
   "source": [
    "type(x)"
   ]
  },
  {
   "cell_type": "code",
   "execution_count": 80,
   "metadata": {},
   "outputs": [],
   "source": [
    "sess = tf.Session()"
   ]
  },
  {
   "cell_type": "code",
   "execution_count": 8,
   "metadata": {},
   "outputs": [
    {
     "data": {
      "text/plain": [
       "b'Hello World'"
      ]
     },
     "execution_count": 8,
     "metadata": {},
     "output_type": "execute_result"
    }
   ],
   "source": [
    "sess.run(hello)"
   ]
  },
  {
   "cell_type": "code",
   "execution_count": 9,
   "metadata": {},
   "outputs": [],
   "source": [
    "#Operations"
   ]
  },
  {
   "cell_type": "code",
   "execution_count": 10,
   "metadata": {},
   "outputs": [],
   "source": [
    "x = tf.constant(2)"
   ]
  },
  {
   "cell_type": "code",
   "execution_count": 11,
   "metadata": {},
   "outputs": [],
   "source": [
    "y = tf.constant(3)"
   ]
  },
  {
   "cell_type": "code",
   "execution_count": 12,
   "metadata": {},
   "outputs": [
    {
     "name": "stdout",
     "output_type": "stream",
     "text": [
      "Operations with Constants\n",
      "5\n"
     ]
    }
   ],
   "source": [
    "with tf.Session() as sess:\n",
    "    print('Operations with Constants')\n",
    "    print(sess.run(x+y))"
   ]
  },
  {
   "cell_type": "code",
   "execution_count": 13,
   "metadata": {},
   "outputs": [],
   "source": [
    "x = tf.placeholder(tf.int32)"
   ]
  },
  {
   "cell_type": "code",
   "execution_count": 14,
   "metadata": {},
   "outputs": [],
   "source": [
    "y = tf.placeholder(tf.int32)"
   ]
  },
  {
   "cell_type": "code",
   "execution_count": 15,
   "metadata": {},
   "outputs": [
    {
     "data": {
      "text/plain": [
       "<tf.Tensor 'Placeholder:0' shape=<unknown> dtype=int32>"
      ]
     },
     "execution_count": 15,
     "metadata": {},
     "output_type": "execute_result"
    }
   ],
   "source": [
    "x"
   ]
  },
  {
   "cell_type": "code",
   "execution_count": 16,
   "metadata": {},
   "outputs": [],
   "source": [
    "add = tf.add(x,y)"
   ]
  },
  {
   "cell_type": "code",
   "execution_count": 20,
   "metadata": {},
   "outputs": [],
   "source": [
    "mul = tf.multiply(x,y)"
   ]
  },
  {
   "cell_type": "code",
   "execution_count": 25,
   "metadata": {},
   "outputs": [
    {
     "name": "stdout",
     "output_type": "stream",
     "text": [
      "Operations with Placeholders\n",
      "addition 50\n"
     ]
    }
   ],
   "source": [
    "with tf.Session() as sess:\n",
    "    print('Operations with Placeholders')\n",
    "    print('addition', sess.run(add, feed_dict = {x:20, y:30}))"
   ]
  },
  {
   "cell_type": "code",
   "execution_count": 26,
   "metadata": {},
   "outputs": [],
   "source": [
    "import numpy as np"
   ]
  },
  {
   "cell_type": "code",
   "execution_count": 27,
   "metadata": {},
   "outputs": [],
   "source": [
    "a = np.array([[5.,5.]])"
   ]
  },
  {
   "cell_type": "code",
   "execution_count": 28,
   "metadata": {},
   "outputs": [],
   "source": [
    "b = np.array([[2.],[2.]])"
   ]
  },
  {
   "cell_type": "code",
   "execution_count": 29,
   "metadata": {},
   "outputs": [
    {
     "data": {
      "text/plain": [
       "(1, 2)"
      ]
     },
     "execution_count": 29,
     "metadata": {},
     "output_type": "execute_result"
    }
   ],
   "source": [
    "a.shape"
   ]
  },
  {
   "cell_type": "code",
   "execution_count": 30,
   "metadata": {},
   "outputs": [
    {
     "data": {
      "text/plain": [
       "(2, 1)"
      ]
     },
     "execution_count": 30,
     "metadata": {},
     "output_type": "execute_result"
    }
   ],
   "source": [
    "b.shape"
   ]
  },
  {
   "cell_type": "code",
   "execution_count": 31,
   "metadata": {},
   "outputs": [],
   "source": [
    "mat1 = tf.constant(a)"
   ]
  },
  {
   "cell_type": "code",
   "execution_count": 32,
   "metadata": {},
   "outputs": [],
   "source": [
    "mat2 = tf.constant(b)"
   ]
  },
  {
   "cell_type": "code",
   "execution_count": 33,
   "metadata": {},
   "outputs": [],
   "source": [
    "matrix_multi = tf.matmul(mat1, mat2)"
   ]
  },
  {
   "cell_type": "code",
   "execution_count": 35,
   "metadata": {},
   "outputs": [
    {
     "name": "stdout",
     "output_type": "stream",
     "text": [
      "[[ 20.]]\n"
     ]
    }
   ],
   "source": [
    "with tf.Session() as sess:\n",
    "    result = sess.run(matrix_multi)\n",
    "    print(result)"
   ]
  },
  {
   "cell_type": "code",
   "execution_count": 36,
   "metadata": {},
   "outputs": [],
   "source": [
    "from tensorflow.examples.tutorials.mnist import input_data"
   ]
  },
  {
   "cell_type": "code",
   "execution_count": 37,
   "metadata": {},
   "outputs": [
    {
     "name": "stdout",
     "output_type": "stream",
     "text": [
      "Successfully downloaded train-images-idx3-ubyte.gz 9912422 bytes.\n",
      "Extracting /tmp/data/train-images-idx3-ubyte.gz\n",
      "Successfully downloaded train-labels-idx1-ubyte.gz 28881 bytes.\n",
      "Extracting /tmp/data/train-labels-idx1-ubyte.gz\n",
      "Successfully downloaded t10k-images-idx3-ubyte.gz 1648877 bytes.\n",
      "Extracting /tmp/data/t10k-images-idx3-ubyte.gz\n",
      "Successfully downloaded t10k-labels-idx1-ubyte.gz 4542 bytes.\n",
      "Extracting /tmp/data/t10k-labels-idx1-ubyte.gz\n"
     ]
    }
   ],
   "source": [
    "mnist = input_data.read_data_sets(\"/tmp/data\", one_hot = True)"
   ]
  },
  {
   "cell_type": "code",
   "execution_count": 38,
   "metadata": {},
   "outputs": [
    {
     "data": {
      "text/plain": [
       "tensorflow.contrib.learn.python.learn.datasets.base.Datasets"
      ]
     },
     "execution_count": 38,
     "metadata": {},
     "output_type": "execute_result"
    }
   ],
   "source": [
    "type(mnist)"
   ]
  },
  {
   "cell_type": "code",
   "execution_count": 40,
   "metadata": {},
   "outputs": [
    {
     "data": {
      "text/plain": [
       "array([[ 0.,  0.,  0., ...,  0.,  0.,  0.],\n",
       "       [ 0.,  0.,  0., ...,  0.,  0.,  0.],\n",
       "       [ 0.,  0.,  0., ...,  0.,  0.,  0.],\n",
       "       ..., \n",
       "       [ 0.,  0.,  0., ...,  0.,  0.,  0.],\n",
       "       [ 0.,  0.,  0., ...,  0.,  0.,  0.],\n",
       "       [ 0.,  0.,  0., ...,  0.,  0.,  0.]], dtype=float32)"
      ]
     },
     "execution_count": 40,
     "metadata": {},
     "output_type": "execute_result"
    }
   ],
   "source": [
    "mnist.train.images"
   ]
  },
  {
   "cell_type": "code",
   "execution_count": 43,
   "metadata": {},
   "outputs": [
    {
     "data": {
      "text/plain": [
       "(784,)"
      ]
     },
     "execution_count": 43,
     "metadata": {},
     "output_type": "execute_result"
    }
   ],
   "source": [
    "mnist.train.images[2].shape"
   ]
  },
  {
   "cell_type": "markdown",
   "metadata": {},
   "source": []
  },
  {
   "cell_type": "code",
   "execution_count": 44,
   "metadata": {},
   "outputs": [],
   "source": [
    "sample = mnist.train.images[2].reshape(28,28)"
   ]
  },
  {
   "cell_type": "code",
   "execution_count": 45,
   "metadata": {},
   "outputs": [],
   "source": [
    "import matplotlib.pyplot as plt"
   ]
  },
  {
   "cell_type": "code",
   "execution_count": 46,
   "metadata": {},
   "outputs": [],
   "source": [
    "%matplotlib inline"
   ]
  },
  {
   "cell_type": "code",
   "execution_count": 47,
   "metadata": {},
   "outputs": [
    {
     "data": {
      "text/plain": [
       "<matplotlib.image.AxesImage at 0x7fca00f09710>"
      ]
     },
     "execution_count": 47,
     "metadata": {},
     "output_type": "execute_result"
    },
    {
     "data": {
      "image/png": "[encoded data removed]",
      "text/plain": [
       "<matplotlib.figure.Figure at 0x7fca0322a828>"
      ]
     },
     "metadata": {},
     "output_type": "display_data"
    }
   ],
   "source": [
    "plt.imshow(sample, cmap='Greys')"
   ]
  },
  {
   "cell_type": "code",
   "execution_count": 49,
   "metadata": {},
   "outputs": [],
   "source": [
    "learning_rate = 0.001\n",
    "training_epochs = 15\n",
    "batch_size = 100"
   ]
  },
  {
   "cell_type": "code",
   "execution_count": 50,
   "metadata": {},
   "outputs": [],
   "source": [
    "n_classes = 10\n",
    "n_samples = mnist.train.num_examples"
   ]
  },
  {
   "cell_type": "code",
   "execution_count": 51,
   "metadata": {},
   "outputs": [],
   "source": [
    "n_input = 784"
   ]
  },
  {
   "cell_type": "code",
   "execution_count": 52,
   "metadata": {},
   "outputs": [],
   "source": [
    "n_hidden_1 = 256\n",
    "n_hidden_2 = 256"
   ]
  },
  {
   "cell_type": "code",
   "execution_count": 58,
   "metadata": {},
   "outputs": [],
   "source": [
    "def multilayer_perceptron(x, weights, biases):\n",
    "    '''\n",
    "    x: Placeholder for Data Input\n",
    "    weights: Dict of weights\n",
    "    biases: dict of bias values\n",
    "    '''\n",
    "    \n",
    "    #First Hidden Layer with RELU Activation\n",
    "    \n",
    "    layer_1 = tf.add(tf.matmul(x,weights['h1']), biases['b1'])\n",
    "    layer_1 = tf.nn.relu(layer_1)\n",
    "    \n",
    "    #Second Hidden Layer\n",
    "    \n",
    "    layer_2 = tf.add(tf.matmul(layer_1,weights['h2']), biases['b2'])\n",
    "    layer_2 = tf.nn.relu(layer_2)\n",
    "    \n",
    "    #Last Output Layer\n",
    "    \n",
    "    out_layer = tf.matmul(layer_2, weights['out']) + biases['out']\n",
    "    \n",
    "    return out_layer"
   ]
  },
  {
   "cell_type": "code",
   "execution_count": 59,
   "metadata": {},
   "outputs": [],
   "source": [
    "weights = {\n",
    "    'h1': tf.Variable(tf.random_normal([n_input, n_hidden_1])),\n",
    "    'h2': tf.Variable(tf.random_normal([n_hidden_1,n_hidden_2])),\n",
    "    'out': tf.Variable(tf.random_normal([n_hidden_2, n_classes]))\n",
    "}"
   ]
  },
  {
   "cell_type": "code",
   "execution_count": 60,
   "metadata": {},
   "outputs": [],
   "source": [
    "biases = {\n",
    "    'b1': tf.Variable(tf.random_normal([n_hidden_1])),\n",
    "    'b2': tf.Variable(tf.random_normal([n_hidden_2])),\n",
    "    'out': tf.Variable(tf.random_normal([n_classes]))\n",
    "}"
   ]
  },
  {
   "cell_type": "code",
   "execution_count": 61,
   "metadata": {},
   "outputs": [],
   "source": [
    "x = tf.placeholder('float', [None, n_input])\n",
    "y = tf.placeholder('float', [None, n_classes])"
   ]
  },
  {
   "cell_type": "code",
   "execution_count": 62,
   "metadata": {},
   "outputs": [],
   "source": [
    "pred = multilayer_perceptron(x, weights, biases)"
   ]
  },
  {
   "cell_type": "code",
   "execution_count": 78,
   "metadata": {},
   "outputs": [],
   "source": [
    "cost = tf.reduce_mean(tf.nn.softmax_cross_entropy_with_logits(logits = pred, labels = y))\n",
    "optimizer = tf.train.AdamOptimizer(learning_rate = learning_rate).minimize(cost)"
   ]
  },
  {
   "cell_type": "markdown",
   "metadata": {},
   "source": []
  },
  {
   "cell_type": "code",
   "execution_count": 72,
   "metadata": {},
   "outputs": [],
   "source": [
    "t = mnist.train.next_batch(1)"
   ]
  },
  {
   "cell_type": "code",
   "execution_count": 73,
   "metadata": {},
   "outputs": [],
   "source": [
    "Xsamp,ysamp = t"
   ]
  },
  {
   "cell_type": "code",
   "execution_count": 74,
   "metadata": {},
   "outputs": [
    {
     "data": {
      "text/plain": [
       "array([[ 0.,  0.,  0.,  1.,  0.,  0.,  0.,  0.,  0.,  0.]])"
      ]
     },
     "execution_count": 74,
     "metadata": {},
     "output_type": "execute_result"
    }
   ],
   "source": [
    "ysamp"
   ]
  },
  {
   "cell_type": "code",
   "execution_count": 82,
   "metadata": {},
   "outputs": [],
   "source": [
    "init = tf.global_variables_initializer()\n",
    "sess.run(init)"
   ]
  },
  {
   "cell_type": "code",
   "execution_count": 100,
   "metadata": {},
   "outputs": [
    {
     "name": "stdout",
     "output_type": "stream",
     "text": [
      "Epoch: 1 cost 0.1950\n",
      "Epoch: 2 cost 0.1797\n",
      "Epoch: 3 cost 0.2105\n",
      "Epoch: 4 cost 0.1661\n",
      "Epoch: 5 cost 0.1532\n",
      "Epoch: 6 cost 0.1507\n",
      "Epoch: 7 cost 0.1464\n",
      "Epoch: 8 cost 0.1297\n",
      "Epoch: 9 cost 0.1531\n",
      "Epoch: 10 cost 0.1653\n",
      "Epoch: 11 cost 0.1288\n",
      "Epoch: 12 cost 0.1848\n",
      "Epoch: 13 cost 0.1115\n",
      "Epoch: 14 cost 0.1425\n",
      "Epoch: 15 cost 0.1483\n",
      "model has completed 15 Epochs of training\n"
     ]
    }
   ],
   "source": [
    "for epoch in range(training_epochs):\n",
    "    avg_cost = 0.0\n",
    "    total_batch = int(n_samples/batch_size)\n",
    "    for i in range(total_batch):\n",
    "        batch_x, batch_y = mnist.train.next_batch(batch_size)\n",
    "        _,c = sess.run([optimizer, cost], feed_dict = {x:batch_x, y:batch_y})\n",
    "        avg_cost += c/total_batch\n",
    "    \n",
    "    print(\"Epoch: {} cost {:.4f}\".format(epoch+1, avg_cost))\n",
    "\n",
    "print(\"model has completed {} Epochs of training\".format(training_epochs))"
   ]
  },
  {
   "cell_type": "code",
   "execution_count": 84,
   "metadata": {},
   "outputs": [],
   "source": [
    "## Model evaluations"
   ]
  },
  {
   "cell_type": "code",
   "execution_count": 94,
   "metadata": {},
   "outputs": [],
   "source": [
    "correct_predictions = tf.equal(tf.argmax(pred, 1), tf.argmax(y,1))"
   ]
  },
  {
   "cell_type": "code",
   "execution_count": 95,
   "metadata": {},
   "outputs": [
    {
     "name": "stdout",
     "output_type": "stream",
     "text": [
      "Tensor(\"strided_slice_2:0\", shape=(), dtype=bool)\n"
     ]
    }
   ],
   "source": [
    "print (correct_predictions[0])"
   ]
  },
  {
   "cell_type": "code",
   "execution_count": 96,
   "metadata": {},
   "outputs": [],
   "source": [
    "correct_predictions = tf.cast(correct_predictions, 'float')"
   ]
  },
  {
   "cell_type": "code",
   "execution_count": 97,
   "metadata": {},
   "outputs": [
    {
     "name": "stdout",
     "output_type": "stream",
     "text": [
      "Tensor(\"strided_slice_3:0\", shape=(), dtype=float32)\n"
     ]
    }
   ],
   "source": [
    "print(correct_predictions[0])"
   ]
  },
  {
   "cell_type": "code",
   "execution_count": 98,
   "metadata": {},
   "outputs": [],
   "source": [
    "accuracy = tf.reduce_mean(correct_predictions)"
   ]
  },
  {
   "cell_type": "code",
   "execution_count": 101,
   "metadata": {},
   "outputs": [
    {
     "data": {
      "text/plain": [
       "0.96310002"
      ]
     },
     "execution_count": 101,
     "metadata": {},
     "output_type": "execute_result"
    }
   ],
   "source": [
    "accuracy.eval({x: mnist.test.images, y: mnist.test.labels}, session=sess)"
   ]
  },
  {
   "cell_type": "code",
   "execution_count": 102,
   "metadata": {},
   "outputs": [],
   "source": [
    "from sklearn.datasets import load_iris"
   ]
  },
  {
   "cell_type": "code",
   "execution_count": 103,
   "metadata": {},
   "outputs": [],
   "source": [
    "iris = load_iris()"
   ]
  },
  {
   "cell_type": "code",
   "execution_count": 104,
   "metadata": {},
   "outputs": [
    {
     "data": {
      "text/plain": [
       "{'DESCR': 'Iris Plants Database\\n====================\\n\\nNotes\\n-----\\nData Set Characteristics:\\n    :Number of Instances: 150 (50 in each of three classes)\\n    :Number of Attributes: 4 numeric, predictive attributes and the class\\n    :Attribute Information:\\n        - sepal length in cm\\n        - sepal width in cm\\n        - petal length in cm\\n        - petal width in cm\\n        - class:\\n                - Iris-Setosa\\n                - Iris-Versicolour\\n                - Iris-Virginica\\n    :Summary Statistics:\\n\\n    ============== ==== ==== ======= ===== ====================\\n                    Min  Max   Mean    SD   Class Correlation\\n    ============== ==== ==== ======= ===== ====================\\n    sepal length:   4.3  7.9   5.84   0.83    0.7826\\n    sepal width:    2.0  4.4   3.05   0.43   -0.4194\\n    petal length:   1.0  6.9   3.76   1.76    0.9490  (high!)\\n    petal width:    0.1  2.5   1.20  0.76     0.9565  (high!)\\n    ============== ==== ==== ======= ===== ====================\\n\\n    :Missing Attribute Values: None\\n    :Class Distribution: 33.3% for each of 3 classes.\\n    :Creator: R.A. Fisher\\n    :Donor: Michael Marshall (MARSHALL%PLU@io.arc.nasa.gov)\\n    :Date: July, 1988\\n\\nThis is a copy of UCI ML iris datasets.\\nhttp://archive.ics.uci.edu/ml/datasets/Iris\\n\\nThe famous Iris database, first used by Sir R.A Fisher\\n\\nThis is perhaps the best known database to be found in the\\npattern recognition literature.  Fisher\\'s paper is a classic in the field and\\nis referenced frequently to this day.  (See Duda & Hart, for example.)  The\\ndata set contains 3 classes of 50 instances each, where each class refers to a\\ntype of iris plant.  One class is linearly separable from the other 2; the\\nlatter are NOT linearly separable from each other.\\n\\nReferences\\n----------\\n   - Fisher,R.A. \"The use of multiple measurements in taxonomic problems\"\\n     Annual Eugenics, 7, Part II, 179-188 (1936); also in \"Contributions to\\n     Mathematical Statistics\" (John Wiley, NY, 1950).\\n   - Duda,R.O., & Hart,P.E. (1973) Pattern Classification and Scene Analysis.\\n     (Q327.D83) John Wiley & Sons.  ISBN 0-471-22361-1.  See page 218.\\n   - Dasarathy, B.V. (1980) \"Nosing Around the Neighborhood: A New System\\n     Structure and Classification Rule for Recognition in Partially Exposed\\n     Environments\".  IEEE Transactions on Pattern Analysis and Machine\\n     Intelligence, Vol. PAMI-2, No. 1, 67-71.\\n   - Gates, G.W. (1972) \"The Reduced Nearest Neighbor Rule\".  IEEE Transactions\\n     on Information Theory, May 1972, 431-433.\\n   - See also: 1988 MLC Proceedings, 54-64.  Cheeseman et al\"s AUTOCLASS II\\n     conceptual clustering system finds 3 classes in the data.\\n   - Many, many more ...\\n',\n",
       " 'data': array([[ 5.1,  3.5,  1.4,  0.2],\n",
       "        [ 4.9,  3. ,  1.4,  0.2],\n",
       "        [ 4.7,  3.2,  1.3,  0.2],\n",
       "        [ 4.6,  3.1,  1.5,  0.2],\n",
       "        [ 5. ,  3.6,  1.4,  0.2],\n",
       "        [ 5.4,  3.9,  1.7,  0.4],\n",
       "        [ 4.6,  3.4,  1.4,  0.3],\n",
       "        [ 5. ,  3.4,  1.5,  0.2],\n",
       "        [ 4.4,  2.9,  1.4,  0.2],\n",
       "        [ 4.9,  3.1,  1.5,  0.1],\n",
       "        [ 5.4,  3.7,  1.5,  0.2],\n",
       "        [ 4.8,  3.4,  1.6,  0.2],\n",
       "        [ 4.8,  3. ,  1.4,  0.1],\n",
       "        [ 4.3,  3. ,  1.1,  0.1],\n",
       "        [ 5.8,  4. ,  1.2,  0.2],\n",
       "        [ 5.7,  4.4,  1.5,  0.4],\n",
       "        [ 5.4,  3.9,  1.3,  0.4],\n",
       "        [ 5.1,  3.5,  1.4,  0.3],\n",
       "        [ 5.7,  3.8,  1.7,  0.3],\n",
       "        [ 5.1,  3.8,  1.5,  0.3],\n",
       "        [ 5.4,  3.4,  1.7,  0.2],\n",
       "        [ 5.1,  3.7,  1.5,  0.4],\n",
       "        [ 4.6,  3.6,  1. ,  0.2],\n",
       "        [ 5.1,  3.3,  1.7,  0.5],\n",
       "        [ 4.8,  3.4,  1.9,  0.2],\n",
       "        [ 5. ,  3. ,  1.6,  0.2],\n",
       "        [ 5. ,  3.4,  1.6,  0.4],\n",
       "        [ 5.2,  3.5,  1.5,  0.2],\n",
       "        [ 5.2,  3.4,  1.4,  0.2],\n",
       "        [ 4.7,  3.2,  1.6,  0.2],\n",
       "        [ 4.8,  3.1,  1.6,  0.2],\n",
       "        [ 5.4,  3.4,  1.5,  0.4],\n",
       "        [ 5.2,  4.1,  1.5,  0.1],\n",
       "        [ 5.5,  4.2,  1.4,  0.2],\n",
       "        [ 4.9,  3.1,  1.5,  0.1],\n",
       "        [ 5. ,  3.2,  1.2,  0.2],\n",
       "        [ 5.5,  3.5,  1.3,  0.2],\n",
       "        [ 4.9,  3.1,  1.5,  0.1],\n",
       "        [ 4.4,  3. ,  1.3,  0.2],\n",
       "        [ 5.1,  3.4,  1.5,  0.2],\n",
       "        [ 5. ,  3.5,  1.3,  0.3],\n",
       "        [ 4.5,  2.3,  1.3,  0.3],\n",
       "        [ 4.4,  3.2,  1.3,  0.2],\n",
       "        [ 5. ,  3.5,  1.6,  0.6],\n",
       "        [ 5.1,  3.8,  1.9,  0.4],\n",
       "        [ 4.8,  3. ,  1.4,  0.3],\n",
       "        [ 5.1,  3.8,  1.6,  0.2],\n",
       "        [ 4.6,  3.2,  1.4,  0.2],\n",
       "        [ 5.3,  3.7,  1.5,  0.2],\n",
       "        [ 5. ,  3.3,  1.4,  0.2],\n",
       "        [ 7. ,  3.2,  4.7,  1.4],\n",
       "        [ 6.4,  3.2,  4.5,  1.5],\n",
       "        [ 6.9,  3.1,  4.9,  1.5],\n",
       "        [ 5.5,  2.3,  4. ,  1.3],\n",
       "        [ 6.5,  2.8,  4.6,  1.5],\n",
       "        [ 5.7,  2.8,  4.5,  1.3],\n",
       "        [ 6.3,  3.3,  4.7,  1.6],\n",
       "        [ 4.9,  2.4,  3.3,  1. ],\n",
       "        [ 6.6,  2.9,  4.6,  1.3],\n",
       "        [ 5.2,  2.7,  3.9,  1.4],\n",
       "        [ 5. ,  2. ,  3.5,  1. ],\n",
       "        [ 5.9,  3. ,  4.2,  1.5],\n",
       "        [ 6. ,  2.2,  4. ,  1. ],\n",
       "        [ 6.1,  2.9,  4.7,  1.4],\n",
       "        [ 5.6,  2.9,  3.6,  1.3],\n",
       "        [ 6.7,  3.1,  4.4,  1.4],\n",
       "        [ 5.6,  3. ,  4.5,  1.5],\n",
       "        [ 5.8,  2.7,  4.1,  1. ],\n",
       "        [ 6.2,  2.2,  4.5,  1.5],\n",
       "        [ 5.6,  2.5,  3.9,  1.1],\n",
       "        [ 5.9,  3.2,  4.8,  1.8],\n",
       "        [ 6.1,  2.8,  4. ,  1.3],\n",
       "        [ 6.3,  2.5,  4.9,  1.5],\n",
       "        [ 6.1,  2.8,  4.7,  1.2],\n",
       "        [ 6.4,  2.9,  4.3,  1.3],\n",
       "        [ 6.6,  3. ,  4.4,  1.4],\n",
       "        [ 6.8,  2.8,  4.8,  1.4],\n",
       "        [ 6.7,  3. ,  5. ,  1.7],\n",
       "        [ 6. ,  2.9,  4.5,  1.5],\n",
       "        [ 5.7,  2.6,  3.5,  1. ],\n",
       "        [ 5.5,  2.4,  3.8,  1.1],\n",
       "        [ 5.5,  2.4,  3.7,  1. ],\n",
       "        [ 5.8,  2.7,  3.9,  1.2],\n",
       "        [ 6. ,  2.7,  5.1,  1.6],\n",
       "        [ 5.4,  3. ,  4.5,  1.5],\n",
       "        [ 6. ,  3.4,  4.5,  1.6],\n",
       "        [ 6.7,  3.1,  4.7,  1.5],\n",
       "        [ 6.3,  2.3,  4.4,  1.3],\n",
       "        [ 5.6,  3. ,  4.1,  1.3],\n",
       "        [ 5.5,  2.5,  4. ,  1.3],\n",
       "        [ 5.5,  2.6,  4.4,  1.2],\n",
       "        [ 6.1,  3. ,  4.6,  1.4],\n",
       "        [ 5.8,  2.6,  4. ,  1.2],\n",
       "        [ 5. ,  2.3,  3.3,  1. ],\n",
       "        [ 5.6,  2.7,  4.2,  1.3],\n",
       "        [ 5.7,  3. ,  4.2,  1.2],\n",
       "        [ 5.7,  2.9,  4.2,  1.3],\n",
       "        [ 6.2,  2.9,  4.3,  1.3],\n",
       "        [ 5.1,  2.5,  3. ,  1.1],\n",
       "        [ 5.7,  2.8,  4.1,  1.3],\n",
       "        [ 6.3,  3.3,  6. ,  2.5],\n",
       "        [ 5.8,  2.7,  5.1,  1.9],\n",
       "        [ 7.1,  3. ,  5.9,  2.1],\n",
       "        [ 6.3,  2.9,  5.6,  1.8],\n",
       "        [ 6.5,  3. ,  5.8,  2.2],\n",
       "        [ 7.6,  3. ,  6.6,  2.1],\n",
       "        [ 4.9,  2.5,  4.5,  1.7],\n",
       "        [ 7.3,  2.9,  6.3,  1.8],\n",
       "        [ 6.7,  2.5,  5.8,  1.8],\n",
       "        [ 7.2,  3.6,  6.1,  2.5],\n",
       "        [ 6.5,  3.2,  5.1,  2. ],\n",
       "        [ 6.4,  2.7,  5.3,  1.9],\n",
       "        [ 6.8,  3. ,  5.5,  2.1],\n",
       "        [ 5.7,  2.5,  5. ,  2. ],\n",
       "        [ 5.8,  2.8,  5.1,  2.4],\n",
       "        [ 6.4,  3.2,  5.3,  2.3],\n",
       "        [ 6.5,  3. ,  5.5,  1.8],\n",
       "        [ 7.7,  3.8,  6.7,  2.2],\n",
       "        [ 7.7,  2.6,  6.9,  2.3],\n",
       "        [ 6. ,  2.2,  5. ,  1.5],\n",
       "        [ 6.9,  3.2,  5.7,  2.3],\n",
       "        [ 5.6,  2.8,  4.9,  2. ],\n",
       "        [ 7.7,  2.8,  6.7,  2. ],\n",
       "        [ 6.3,  2.7,  4.9,  1.8],\n",
       "        [ 6.7,  3.3,  5.7,  2.1],\n",
       "        [ 7.2,  3.2,  6. ,  1.8],\n",
       "        [ 6.2,  2.8,  4.8,  1.8],\n",
       "        [ 6.1,  3. ,  4.9,  1.8],\n",
       "        [ 6.4,  2.8,  5.6,  2.1],\n",
       "        [ 7.2,  3. ,  5.8,  1.6],\n",
       "        [ 7.4,  2.8,  6.1,  1.9],\n",
       "        [ 7.9,  3.8,  6.4,  2. ],\n",
       "        [ 6.4,  2.8,  5.6,  2.2],\n",
       "        [ 6.3,  2.8,  5.1,  1.5],\n",
       "        [ 6.1,  2.6,  5.6,  1.4],\n",
       "        [ 7.7,  3. ,  6.1,  2.3],\n",
       "        [ 6.3,  3.4,  5.6,  2.4],\n",
       "        [ 6.4,  3.1,  5.5,  1.8],\n",
       "        [ 6. ,  3. ,  4.8,  1.8],\n",
       "        [ 6.9,  3.1,  5.4,  2.1],\n",
       "        [ 6.7,  3.1,  5.6,  2.4],\n",
       "        [ 6.9,  3.1,  5.1,  2.3],\n",
       "        [ 5.8,  2.7,  5.1,  1.9],\n",
       "        [ 6.8,  3.2,  5.9,  2.3],\n",
       "        [ 6.7,  3.3,  5.7,  2.5],\n",
       "        [ 6.7,  3. ,  5.2,  2.3],\n",
       "        [ 6.3,  2.5,  5. ,  1.9],\n",
       "        [ 6.5,  3. ,  5.2,  2. ],\n",
       "        [ 6.2,  3.4,  5.4,  2.3],\n",
       "        [ 5.9,  3. ,  5.1,  1.8]]),\n",
       " 'feature_names': ['sepal length (cm)',\n",
       "  'sepal width (cm)',\n",
       "  'petal length (cm)',\n",
       "  'petal width (cm)'],\n",
       " 'target': array([0, 0, 0, 0, 0, 0, 0, 0, 0, 0, 0, 0, 0, 0, 0, 0, 0, 0, 0, 0, 0, 0, 0,\n",
       "        0, 0, 0, 0, 0, 0, 0, 0, 0, 0, 0, 0, 0, 0, 0, 0, 0, 0, 0, 0, 0, 0, 0,\n",
       "        0, 0, 0, 0, 1, 1, 1, 1, 1, 1, 1, 1, 1, 1, 1, 1, 1, 1, 1, 1, 1, 1, 1,\n",
       "        1, 1, 1, 1, 1, 1, 1, 1, 1, 1, 1, 1, 1, 1, 1, 1, 1, 1, 1, 1, 1, 1, 1,\n",
       "        1, 1, 1, 1, 1, 1, 1, 1, 2, 2, 2, 2, 2, 2, 2, 2, 2, 2, 2, 2, 2, 2, 2,\n",
       "        2, 2, 2, 2, 2, 2, 2, 2, 2, 2, 2, 2, 2, 2, 2, 2, 2, 2, 2, 2, 2, 2, 2,\n",
       "        2, 2, 2, 2, 2, 2, 2, 2, 2, 2, 2, 2]),\n",
       " 'target_names': array(['setosa', 'versicolor', 'virginica'],\n",
       "       dtype='<U10')}"
      ]
     },
     "execution_count": 104,
     "metadata": {},
     "output_type": "execute_result"
    }
   ],
   "source": [
    "iris"
   ]
  },
  {
   "cell_type": "code",
   "execution_count": 105,
   "metadata": {},
   "outputs": [],
   "source": [
    "X = iris['data']\n",
    "y = iris['target']"
   ]
  },
  {
   "cell_type": "code",
   "execution_count": 107,
   "metadata": {},
   "outputs": [],
   "source": [
    "from sklearn.model_selection import train_test_split"
   ]
  },
  {
   "cell_type": "code",
   "execution_count": 108,
   "metadata": {},
   "outputs": [],
   "source": [
    "X_train, X_test, y_train, y_test = train_test_split(X, y, test_size = 0.3)"
   ]
  },
  {
   "cell_type": "code",
   "execution_count": 122,
   "metadata": {},
   "outputs": [],
   "source": [
    "import tensorflow.contrib.learn as skflow"
   ]
  },
  {
   "cell_type": "code",
   "execution_count": 123,
   "metadata": {},
   "outputs": [
    {
     "name": "stdout",
     "output_type": "stream",
     "text": [
      "WARNING:tensorflow:float64 is not supported by many models, consider casting to float32.\n"
     ]
    }
   ],
   "source": [
    "feature_columns = skflow.infer_real_valued_columns_from_input(X_train)"
   ]
  },
  {
   "cell_type": "code",
   "execution_count": 170,
   "metadata": {},
   "outputs": [
    {
     "name": "stdout",
     "output_type": "stream",
     "text": [
      "INFO:tensorflow:Using default config.\n",
      "WARNING:tensorflow:Using temporary folder as model directory: /tmp/tmpz741kapf\n",
      "INFO:tensorflow:Using config: {'_log_step_count_steps': 100, '_tf_config': gpu_options {\n",
      "  per_process_gpu_memory_fraction: 1.0\n",
      "}\n",
      ", '_save_checkpoints_steps': None, '_master': '', '_tf_random_seed': None, '_model_dir': '/tmp/tmpz741kapf', '_save_checkpoints_secs': 600, '_keep_checkpoint_every_n_hours': 10000, '_num_ps_replicas': 0, '_environment': 'local', '_cluster_spec': <tensorflow.python.training.server_lib.ClusterSpec object at 0x7fc9e0627da0>, '_task_id': 0, '_evaluation_master': '', '_save_summary_steps': 100, '_task_type': None, '_session_config': None, '_num_worker_replicas': 0, '_keep_checkpoint_max': 5, '_is_chief': True}\n"
     ]
    }
   ],
   "source": [
    "classifier = skflow.DNNClassifier(hidden_units = [10, 20, 40, 40, 20, 10], n_classes = 3, feature_columns = feature_columns)"
   ]
  },
  {
   "cell_type": "code",
   "execution_count": 171,
   "metadata": {},
   "outputs": [
    {
     "name": "stdout",
     "output_type": "stream",
     "text": [
      "WARNING:tensorflow:float64 is not supported by many models, consider casting to float32.\n",
      "INFO:tensorflow:Create CheckpointSaverHook.\n",
      "INFO:tensorflow:Saving checkpoints for 1 into /tmp/tmpz741kapf/model.ckpt.\n",
      "INFO:tensorflow:loss = 1.10359, step = 1\n",
      "INFO:tensorflow:global_step/sec: 699.129\n",
      "INFO:tensorflow:loss = 0.391986, step = 101 (0.144 sec)\n",
      "INFO:tensorflow:global_step/sec: 921.39\n",
      "INFO:tensorflow:loss = 0.338897, step = 201 (0.109 sec)\n",
      "INFO:tensorflow:global_step/sec: 892.352\n",
      "INFO:tensorflow:loss = 0.208217, step = 301 (0.112 sec)\n",
      "INFO:tensorflow:global_step/sec: 946.458\n",
      "INFO:tensorflow:loss = 0.131847, step = 401 (0.106 sec)\n",
      "INFO:tensorflow:global_step/sec: 811.497\n",
      "INFO:tensorflow:loss = 0.196716, step = 501 (0.123 sec)\n",
      "INFO:tensorflow:global_step/sec: 850.201\n",
      "INFO:tensorflow:loss = 0.0395968, step = 601 (0.118 sec)\n",
      "INFO:tensorflow:global_step/sec: 899.264\n",
      "INFO:tensorflow:loss = 0.00635193, step = 701 (0.112 sec)\n",
      "INFO:tensorflow:global_step/sec: 886.82\n",
      "INFO:tensorflow:loss = 0.0105815, step = 801 (0.112 sec)\n",
      "INFO:tensorflow:global_step/sec: 801.03\n",
      "INFO:tensorflow:loss = 0.0600931, step = 901 (0.125 sec)\n",
      "INFO:tensorflow:global_step/sec: 867.631\n",
      "INFO:tensorflow:loss = 0.0497395, step = 1001 (0.116 sec)\n",
      "INFO:tensorflow:global_step/sec: 978.756\n",
      "INFO:tensorflow:loss = 0.0241431, step = 1101 (0.103 sec)\n",
      "INFO:tensorflow:global_step/sec: 919.354\n",
      "INFO:tensorflow:loss = 0.0121004, step = 1201 (0.109 sec)\n",
      "INFO:tensorflow:global_step/sec: 856.466\n",
      "INFO:tensorflow:loss = 0.0309295, step = 1301 (0.116 sec)\n",
      "INFO:tensorflow:global_step/sec: 825.842\n",
      "INFO:tensorflow:loss = 0.2907, step = 1401 (0.121 sec)\n",
      "INFO:tensorflow:global_step/sec: 933.688\n",
      "INFO:tensorflow:loss = 0.0218287, step = 1501 (0.107 sec)\n",
      "INFO:tensorflow:global_step/sec: 954.561\n",
      "INFO:tensorflow:loss = 0.00199104, step = 1601 (0.105 sec)\n",
      "INFO:tensorflow:global_step/sec: 953.418\n",
      "INFO:tensorflow:loss = 0.00411815, step = 1701 (0.105 sec)\n",
      "INFO:tensorflow:global_step/sec: 847.893\n",
      "INFO:tensorflow:loss = 0.00347486, step = 1801 (0.118 sec)\n",
      "INFO:tensorflow:global_step/sec: 944.363\n",
      "INFO:tensorflow:loss = 0.000715209, step = 1901 (0.106 sec)\n",
      "INFO:tensorflow:global_step/sec: 923.278\n",
      "INFO:tensorflow:loss = 0.00255631, step = 2001 (0.108 sec)\n",
      "INFO:tensorflow:global_step/sec: 953.526\n",
      "INFO:tensorflow:loss = 0.123787, step = 2101 (0.105 sec)\n",
      "INFO:tensorflow:global_step/sec: 925.229\n",
      "INFO:tensorflow:loss = 0.0054031, step = 2201 (0.108 sec)\n",
      "INFO:tensorflow:global_step/sec: 863.962\n",
      "INFO:tensorflow:loss = 0.00902514, step = 2301 (0.116 sec)\n",
      "INFO:tensorflow:global_step/sec: 974.959\n",
      "INFO:tensorflow:loss = 0.00496156, step = 2401 (0.103 sec)\n",
      "INFO:tensorflow:global_step/sec: 974.468\n",
      "INFO:tensorflow:loss = 0.00777191, step = 2501 (0.103 sec)\n",
      "INFO:tensorflow:global_step/sec: 934.069\n",
      "INFO:tensorflow:loss = 0.00353933, step = 2601 (0.107 sec)\n",
      "INFO:tensorflow:global_step/sec: 819.655\n",
      "INFO:tensorflow:loss = 0.00018039, step = 2701 (0.122 sec)\n",
      "INFO:tensorflow:global_step/sec: 845.37\n",
      "INFO:tensorflow:loss = 0.00228028, step = 2801 (0.119 sec)\n",
      "INFO:tensorflow:global_step/sec: 857.922\n",
      "INFO:tensorflow:loss = 0.00278372, step = 2901 (0.117 sec)\n",
      "INFO:tensorflow:global_step/sec: 827.413\n",
      "INFO:tensorflow:loss = 0.000184973, step = 3001 (0.121 sec)\n",
      "INFO:tensorflow:global_step/sec: 819.829\n",
      "INFO:tensorflow:loss = 0.000490086, step = 3101 (0.122 sec)\n",
      "INFO:tensorflow:global_step/sec: 801.089\n",
      "INFO:tensorflow:loss = 0.000153553, step = 3201 (0.126 sec)\n",
      "INFO:tensorflow:global_step/sec: 716.147\n",
      "INFO:tensorflow:loss = 0.00014831, step = 3301 (0.139 sec)\n",
      "INFO:tensorflow:global_step/sec: 801.567\n",
      "INFO:tensorflow:loss = 0.000177066, step = 3401 (0.125 sec)\n",
      "INFO:tensorflow:global_step/sec: 904.926\n",
      "INFO:tensorflow:loss = 0.00150193, step = 3501 (0.110 sec)\n",
      "INFO:tensorflow:global_step/sec: 773.326\n",
      "INFO:tensorflow:loss = 0.000110879, step = 3601 (0.129 sec)\n",
      "INFO:tensorflow:global_step/sec: 874.394\n",
      "INFO:tensorflow:loss = 0.000511814, step = 3701 (0.115 sec)\n",
      "INFO:tensorflow:global_step/sec: 723.103\n",
      "INFO:tensorflow:loss = 0.00147537, step = 3801 (0.138 sec)\n",
      "INFO:tensorflow:global_step/sec: 855.35\n",
      "INFO:tensorflow:loss = 0.00113551, step = 3901 (0.117 sec)\n",
      "INFO:tensorflow:global_step/sec: 847.682\n",
      "INFO:tensorflow:loss = 5.25789e-05, step = 4001 (0.118 sec)\n",
      "INFO:tensorflow:global_step/sec: 868.738\n",
      "INFO:tensorflow:loss = 0.00157192, step = 4101 (0.115 sec)\n",
      "INFO:tensorflow:global_step/sec: 897.387\n",
      "INFO:tensorflow:loss = 0.000829365, step = 4201 (0.111 sec)\n",
      "INFO:tensorflow:global_step/sec: 897.782\n",
      "INFO:tensorflow:loss = 0.00141588, step = 4301 (0.112 sec)\n",
      "INFO:tensorflow:global_step/sec: 744.705\n",
      "INFO:tensorflow:loss = 0.000154213, step = 4401 (0.134 sec)\n",
      "INFO:tensorflow:global_step/sec: 922.5\n",
      "INFO:tensorflow:loss = 0.00133461, step = 4501 (0.109 sec)\n",
      "INFO:tensorflow:global_step/sec: 855.01\n",
      "INFO:tensorflow:loss = 0.000756186, step = 4601 (0.117 sec)\n",
      "INFO:tensorflow:global_step/sec: 842.025\n",
      "INFO:tensorflow:loss = 0.00122219, step = 4701 (0.119 sec)\n",
      "INFO:tensorflow:global_step/sec: 845.759\n",
      "INFO:tensorflow:loss = 0.000598101, step = 4801 (0.118 sec)\n",
      "INFO:tensorflow:global_step/sec: 916.876\n",
      "INFO:tensorflow:loss = 3.53882e-05, step = 4901 (0.109 sec)\n",
      "INFO:tensorflow:global_step/sec: 846.713\n",
      "INFO:tensorflow:loss = 0.000150578, step = 5001 (0.118 sec)\n",
      "INFO:tensorflow:global_step/sec: 937.229\n",
      "INFO:tensorflow:loss = 0.000172663, step = 5101 (0.107 sec)\n",
      "INFO:tensorflow:global_step/sec: 896.675\n",
      "INFO:tensorflow:loss = 0.000471876, step = 5201 (0.111 sec)\n",
      "INFO:tensorflow:global_step/sec: 880.731\n",
      "INFO:tensorflow:loss = 0.00016594, step = 5301 (0.114 sec)\n",
      "INFO:tensorflow:global_step/sec: 882.012\n",
      "INFO:tensorflow:loss = 0.000761212, step = 5401 (0.114 sec)\n",
      "INFO:tensorflow:global_step/sec: 924.962\n",
      "INFO:tensorflow:loss = 4.57491e-05, step = 5501 (0.108 sec)\n",
      "INFO:tensorflow:global_step/sec: 1025.1\n",
      "INFO:tensorflow:loss = 4.84961e-05, step = 5601 (0.097 sec)\n",
      "INFO:tensorflow:global_step/sec: 978.581\n",
      "INFO:tensorflow:loss = 5.91367e-05, step = 5701 (0.104 sec)\n",
      "INFO:tensorflow:global_step/sec: 868.318\n",
      "INFO:tensorflow:loss = 0.00044701, step = 5801 (0.114 sec)\n",
      "INFO:tensorflow:global_step/sec: 873.801\n",
      "INFO:tensorflow:loss = 2.92203e-05, step = 5901 (0.114 sec)\n",
      "INFO:tensorflow:global_step/sec: 837.315\n",
      "INFO:tensorflow:loss = 1.70205e-05, step = 6001 (0.120 sec)\n",
      "INFO:tensorflow:global_step/sec: 704.501\n",
      "INFO:tensorflow:loss = 0.00040933, step = 6101 (0.142 sec)\n",
      "INFO:tensorflow:global_step/sec: 652.54\n",
      "INFO:tensorflow:loss = 0.000305229, step = 6201 (0.154 sec)\n",
      "INFO:tensorflow:global_step/sec: 681.02\n",
      "INFO:tensorflow:loss = 0.000345045, step = 6301 (0.146 sec)\n",
      "INFO:tensorflow:global_step/sec: 595.188\n",
      "INFO:tensorflow:loss = 0.00025609, step = 6401 (0.168 sec)\n",
      "INFO:tensorflow:global_step/sec: 647.427\n",
      "INFO:tensorflow:loss = 0.000260049, step = 6501 (0.155 sec)\n",
      "INFO:tensorflow:global_step/sec: 760.21\n",
      "INFO:tensorflow:loss = 0.000270515, step = 6601 (0.131 sec)\n",
      "INFO:tensorflow:global_step/sec: 985.925\n",
      "INFO:tensorflow:loss = 3.41691e-05, step = 6701 (0.101 sec)\n",
      "INFO:tensorflow:global_step/sec: 1030.99\n",
      "INFO:tensorflow:loss = 0.000313311, step = 6801 (0.097 sec)\n",
      "INFO:tensorflow:global_step/sec: 916.662\n",
      "INFO:tensorflow:loss = 0.000248297, step = 6901 (0.109 sec)\n",
      "INFO:tensorflow:global_step/sec: 1001.41\n",
      "INFO:tensorflow:loss = 2.38032e-05, step = 7001 (0.100 sec)\n",
      "INFO:tensorflow:global_step/sec: 933.111\n",
      "INFO:tensorflow:loss = 3.35625e-05, step = 7101 (0.107 sec)\n",
      "INFO:tensorflow:global_step/sec: 1037.57\n",
      "INFO:tensorflow:loss = 3.03073e-05, step = 7201 (0.096 sec)\n",
      "INFO:tensorflow:global_step/sec: 999.784\n",
      "INFO:tensorflow:loss = 0.000241648, step = 7301 (0.100 sec)\n",
      "INFO:tensorflow:global_step/sec: 973.477\n",
      "INFO:tensorflow:loss = 0.000237018, step = 7401 (0.103 sec)\n",
      "INFO:tensorflow:global_step/sec: 1019.51\n",
      "INFO:tensorflow:loss = 4.37388e-05, step = 7501 (0.098 sec)\n",
      "INFO:tensorflow:global_step/sec: 976.646\n",
      "INFO:tensorflow:loss = 0.000376611, step = 7601 (0.102 sec)\n",
      "INFO:tensorflow:global_step/sec: 956.337\n",
      "INFO:tensorflow:loss = 0.000402592, step = 7701 (0.105 sec)\n",
      "INFO:tensorflow:global_step/sec: 971.095\n",
      "INFO:tensorflow:loss = 5.74395e-05, step = 7801 (0.103 sec)\n",
      "INFO:tensorflow:global_step/sec: 944.81\n",
      "INFO:tensorflow:loss = 0.000235337, step = 7901 (0.106 sec)\n",
      "INFO:tensorflow:global_step/sec: 989.076\n",
      "INFO:tensorflow:loss = 5.07846e-05, step = 8001 (0.101 sec)\n"
     ]
    },
    {
     "name": "stdout",
     "output_type": "stream",
     "text": [
      "INFO:tensorflow:global_step/sec: 1002.26\n",
      "INFO:tensorflow:loss = 0.000370198, step = 8101 (0.100 sec)\n",
      "INFO:tensorflow:global_step/sec: 1002.2\n",
      "INFO:tensorflow:loss = 5.82258e-06, step = 8201 (0.100 sec)\n",
      "INFO:tensorflow:global_step/sec: 1043.35\n",
      "INFO:tensorflow:loss = 4.77383e-05, step = 8301 (0.096 sec)\n",
      "INFO:tensorflow:global_step/sec: 1018.55\n",
      "INFO:tensorflow:loss = 0.000326889, step = 8401 (0.098 sec)\n",
      "INFO:tensorflow:global_step/sec: 969.837\n",
      "INFO:tensorflow:loss = 4.70833e-05, step = 8501 (0.105 sec)\n",
      "INFO:tensorflow:global_step/sec: 989.381\n",
      "INFO:tensorflow:loss = 0.000193141, step = 8601 (0.099 sec)\n",
      "INFO:tensorflow:global_step/sec: 908.694\n",
      "INFO:tensorflow:loss = 0.000193866, step = 8701 (0.110 sec)\n",
      "INFO:tensorflow:global_step/sec: 871.364\n",
      "INFO:tensorflow:loss = 0.000113155, step = 8801 (0.115 sec)\n",
      "INFO:tensorflow:global_step/sec: 1011.21\n",
      "INFO:tensorflow:loss = 0.000150106, step = 8901 (0.099 sec)\n",
      "INFO:tensorflow:global_step/sec: 1010.62\n",
      "INFO:tensorflow:loss = 1.33616e-05, step = 9001 (0.099 sec)\n",
      "INFO:tensorflow:global_step/sec: 1049.45\n",
      "INFO:tensorflow:loss = 0.000287607, step = 9101 (0.095 sec)\n",
      "INFO:tensorflow:global_step/sec: 1023.69\n",
      "INFO:tensorflow:loss = 0.000143131, step = 9201 (0.098 sec)\n",
      "INFO:tensorflow:global_step/sec: 975.828\n",
      "INFO:tensorflow:loss = 0.000165195, step = 9301 (0.102 sec)\n",
      "INFO:tensorflow:global_step/sec: 879.672\n",
      "INFO:tensorflow:loss = 0.000161431, step = 9401 (0.114 sec)\n",
      "INFO:tensorflow:global_step/sec: 899.704\n",
      "INFO:tensorflow:loss = 0.000131001, step = 9501 (0.111 sec)\n",
      "INFO:tensorflow:global_step/sec: 1033.45\n",
      "INFO:tensorflow:loss = 0.000173127, step = 9601 (0.097 sec)\n",
      "INFO:tensorflow:global_step/sec: 985.483\n",
      "INFO:tensorflow:loss = 0.000128925, step = 9701 (0.102 sec)\n",
      "INFO:tensorflow:global_step/sec: 974.178\n",
      "INFO:tensorflow:loss = 0.000236638, step = 9801 (0.103 sec)\n",
      "INFO:tensorflow:global_step/sec: 873.609\n",
      "INFO:tensorflow:loss = 1.21849e-05, step = 9901 (0.114 sec)\n",
      "INFO:tensorflow:Saving checkpoints for 10000 into /tmp/tmpz741kapf/model.ckpt.\n",
      "INFO:tensorflow:Loss for final step: 2.93105e-05.\n"
     ]
    },
    {
     "data": {
      "text/plain": [
       "DNNClassifier(params={'gradient_clip_norm': None, 'optimizer': None, 'hidden_units': [10, 20, 40, 40, 20, 10], 'head': <tensorflow.contrib.learn.python.learn.estimators.head._MultiClassHead object at 0x7fc9e15ece80>, 'embedding_lr_multipliers': None, 'feature_columns': (_RealValuedColumn(column_name='', dimension=4, default_value=None, dtype=tf.float64, normalizer=None),), 'dropout': None, 'input_layer_min_slice_size': None, 'activation_fn': <function relu at 0x7fca649f2e18>})"
      ]
     },
     "execution_count": 171,
     "metadata": {},
     "output_type": "execute_result"
    }
   ],
   "source": [
    "classifier.fit(X_train, y_train, steps = 10000, batch_size = 32)"
   ]
  },
  {
   "cell_type": "code",
   "execution_count": 172,
   "metadata": {},
   "outputs": [
    {
     "name": "stdout",
     "output_type": "stream",
     "text": [
      "WARNING:tensorflow:float64 is not supported by many models, consider casting to float32.\n",
      "INFO:tensorflow:Restoring parameters from /tmp/tmpz741kapf/model.ckpt-10000\n"
     ]
    }
   ],
   "source": [
    "iris_predictions = list(classifier.predict(X_test, as_iterable = True))"
   ]
  },
  {
   "cell_type": "code",
   "execution_count": 173,
   "metadata": {},
   "outputs": [
    {
     "data": {
      "text/plain": [
       "45"
      ]
     },
     "execution_count": 173,
     "metadata": {},
     "output_type": "execute_result"
    }
   ],
   "source": [
    "#len(iris_predictions)\n",
    "len(y_test)"
   ]
  },
  {
   "cell_type": "code",
   "execution_count": 174,
   "metadata": {},
   "outputs": [],
   "source": [
    "from sklearn.metrics import classification_report, confusion_matrix"
   ]
  },
  {
   "cell_type": "code",
   "execution_count": 175,
   "metadata": {},
   "outputs": [
    {
     "name": "stdout",
     "output_type": "stream",
     "text": [
      "             precision    recall  f1-score   support\n",
      "\n",
      "          0       1.00      1.00      1.00        15\n",
      "          1       1.00      0.94      0.97        17\n",
      "          2       0.93      1.00      0.96        13\n",
      "\n",
      "avg / total       0.98      0.98      0.98        45\n",
      "\n"
     ]
    }
   ],
   "source": [
    "print(classification_report(y_test, iris_predictions))"
   ]
  },
  {
   "cell_type": "code",
   "execution_count": null,
   "metadata": {},
   "outputs": [],
   "source": []
  }
 ],
 "metadata": {
  "kernelspec": {
   "display_name": "Python 3",
   "language": "python",
   "name": "python3"
  },
  "language_info": {
   "codemirror_mode": {
    "name": "ipython",
    "version": 3
   },
   "file_extension": ".py",
   "mimetype": "text/x-python",
   "name": "python",
   "nbconvert_exporter": "python",
   "pygments_lexer": "ipython3",
   "version": "3.5.2"
  }
 },
 "nbformat": 4,
 "nbformat_minor": 2
}
